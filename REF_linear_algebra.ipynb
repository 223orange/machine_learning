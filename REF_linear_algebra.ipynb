{
 "metadata": {
  "name": "Linear_Algebra_Ref"
 }, 
 "nbformat": 2, 
 "worksheets": [
  {
   "cells": [
    {
     "cell_type": "markdown", 
     "source": [
      "<h1>Trace Properties</h1>", 
      "<p> For the square matric A, define tr A = trace(A) = $\\sum_{i}A_{i,i}$. Let $\\bigtriangledown f(A)$ be the matrix of partial", 
      "    derivatives of f with respect to the elements of A. The following hold:", 
      "    <ol>", 
      "        <li>tr AB = tr BA </li>", 
      "        <li> $\\bigtriangledown tr AB = B^T$</li>", 
      "        <li> $tr A = tr A^T$</li>", 
      "        <li> $\\bigtriangledown tr ABA^TC = CAB + C^TAB^T$</li>", 
      "      ", 
      "    </ol>", 
      "</p>"
     ]
    }, 
    {
     "cell_type": "markdown", 
     "source": [
      "<h1>Transpose Properties</h1>", 
      "<ol>", 
      "    <li>$(A+B)^T= A^T+ B^T$</li>", 
      "    <li>$(AB)^T = B^TA^T$</li>", 
      "    <li>$det(A^T) = det(A)$</li>", 
      "    <li>$(A^T)^{-1}=(A^{-1})^T$</li>", 
      "</ol>"
     ]
    }, 
    {
     "cell_type": "code", 
     "collapsed": true, 
     "input": [], 
     "language": "python", 
     "outputs": []
    }
   ]
  }
 ]
}