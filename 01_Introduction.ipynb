{
 "metadata": {
  "name": "01_Introduction"
 }, 
 "nbformat": 2, 
 "worksheets": [
  {
   "cells": [
    {
     "cell_type": "markdown", 
     "source": [
      "<p>Machine Learning def: ", 
      "    <ol><li>field of study that gives computers the ability to learn without being explicitly programmed : Arthur Samuel 1959</li>", 
      "    ", 
      "<li>a computer program is said to learn from experience E with respect to some task T and some performance measure P, if its performance on T as measured by P, ", 
      "    improves with E : Tom Mitchell 1998</li>", 
      "    </ol>", 
      "", 
      "Supervised Learning : training data includes the \u201ccorrect\u201d answer", 
      "    <ul><li>Regression - algorithms that predict a continuous outputs</li>", 
      "        <li>Categorization - algorithms that predict discrete outputs</li>", 
      "    </ul>", 
      "    <br/>", 
      "Learning Theory : study of how and why (mathematically) that a learning algorithm will work", 
      "    <br/>", 
      "Unsupervised Learning : given a data set without any \u201cright answer\u201d. The objective is to find some underlying structure in the data, e.g. clustering", 
      "    <br/>", 
      "Reinforcement Learning : problems where a sequence of decisions are made as opposed to a single decision (or prediction) ", 
      "</p>"
     ]
    }, 
    {
     "cell_type": "markdown", 
     "source": [
      "<h2>Notation</h2>", 
      "<p>m = # of training examples <br/>", 
      "    x = input variables / features <br/>", 
      "    y = output variables / target variable <br/>", 
      "(x,y) represents one training example for supervised learning", 
      "    ith training example is $(x^{(i)},y^{(i)})$", 
      "</p>"
     ]
    }, 
    {
     "cell_type": "code", 
     "collapsed": true, 
     "input": [], 
     "language": "python", 
     "outputs": []
    }
   ]
  }
 ]
}