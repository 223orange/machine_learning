{
 "metadata": {
  "name": "01_Introduction"
 }, 
 "nbformat": 2, 
 "worksheets": [
  {
   "cells": [
    {
     "cell_type": "markdown", 
     "source": [
      "<h1>Machine Learning Defined</h1>", 
      "<p> ", 
      "    <ol><li>field of study that gives computers the ability to learn without being explicitly programmed : Arthur Samuel 1959</li>", 
      "    ", 
      "<li>a computer program is said to learn from experience E with respect to some task T and some performance measure P, if its performance on T as measured by P, ", 
      "    improves with E : Tom Mitchell 1998</li>", 
      "    </ol>", 
      "</p>", 
      "**Supervised Learning** : training data includes the \u201ccorrect\u201d answer", 
      "    <ul><li>Regression - algorithms that predict continuous outputs</li>", 
      "        <li>Categorization - algorithms that predict discrete outputs</li>", 
      "    </ul>", 
      "", 
      "**Unsupervised Learning** : problems where the algorithm is given a data set without any \u201cright answers\u201d. The objective is to find some underlying structure in the data, e.g. clustering", 
      "<br/><br/>", 
      "**Reinforcement Learning** : problems where a sequence of decisions are made as opposed to a single decision (or prediction) ", 
      "<br/><br/>", 
      "**Learning Theory** : study of how and why (mathematically) a learning algorithm works"
     ]
    }, 
    {
     "cell_type": "markdown", 
     "source": [
      "<h1>Introduction</h1>", 
      "The material presented will rely heavily on a *Bayesian* viewpoint of modeling probabilities. The alternative to the Bayesian approach", 
      "is typically referred to as the *frequentist* viewpoint. The labels, or even their *\"proper\"* use is, in practical terms, of little consequence. ", 
      "The important considerations are, as in any modeling, what assumptions are being made to create a given mathematical model and how do those ", 
      "assumptions affect model quality. However, in an effort to be consistent with the literature, I will attempt to use these terms where appropriate. ", 
      "With respect to Bayesian modeling vs. frequentist modeling the most fundamental difference is how data is viewed. In simplistic terms, the ", 
      "Bayesian approach asserts that their is some prior knowledge about the distribution of the data. This prior knowledge alone could be used to make ", 
      "predictions about the future observation - however poor they may be. Once data is observed, it is used to *modulate* the prior assumptions.", 
      "The frenquentist approach tends to ignore any such prior knowledge - relying more on heavily, or even completely, on the observed data. Both approaches, of course, have", 
      "adavantages and disadvantages that I will try to point out along the way.", 
      "", 
      "<h2>A Little Probability</h2>", 
      "Assume we have some events $X$ and $Y$ that can occur with probability $p(X)$ and $p(Y)$. The two fundamental rules of probability are the ", 
      "<br/><br/>", 
      "**product rule** $p(X,Y) = p\\left(Y|X\\right)p\\left(X\\right)$", 
      "<br/><br/>", 
      "**sum rule**     $p(X)=\\sum_Yp\\left(X,Y\\right)$", 
      "<br/><br/>", 
      "The product rule is simply the \"probability of X and Y occuring\". Note that $p(X,Y)=p(Y,X)$. Also, $p(X|Y)$ is the \"probability of X given that Y has", 
      "occurred\". Using these rules, it is possible to obtain the following, known as *Bayes' theorem* <br/><br/>", 
      "$p(Y|X) = \\frac{p\\left(X|Y\\right)p\\left(Y\\right)}{p\\left(X\\right)}$", 
      "<br/><br/>", 
      "Bayes' theorem will appear repeatadly in the discussion of machine learning.", 
      "", 
      "<h2>Bayesian Modeling</h2>", 
      "Not surprisingly, Bayes' theorem plays a fundamental role in Bayesian modelling. Assume, that we model some process where the model has ", 
      "free parameters contained in the vector $\\mathbf{w}$. Now assume that we have some notion of the probability distribution of these parameters, $p(\\mathbf{w})$,", 
      "called the *prior*. That is, we assume that **any** set of values from some space (e.g. the real numbers) is a possible best choice ", 
      "for $\\mathbf{w}$ with some probability $p(\\mathbf{w})$. Finally, assume that we observe a set of data, $\\mathbf{D}$, for the output we are attempting to predict with our model. Our objective is to find", 
      "the *best* set of parameters $\\mathbf{w}$ given the observed data. How we choose the *best* set is the challenge and is where Bayesian modeling", 
      "departs from frequentist modeling. In the Bayesian approach we attempt to maximize the *the probability of the parameters given the data*, ", 
      "$p(\\mathbf{w}|D)$, known as the *posterior*. Using Bayes' theorem we can express the *posterior* as <br/><br/>", 
      "", 
      "$p(\\mathbf{w}|D) = \\frac{p(D|\\mathbf{w})p(\\mathbf{w})}{p(D)}$ <br/><br/>", 
      "", 
      "In order to apply a Bayesian approach, we must formulate models for both the *prior*, $p(\\mathbf{w})$, and the *likelihood function*, $p(D|\\mathbf{w})$. Given", 
      "these models and a set of data we can compute appropriate values for our free parameter vector $\\mathbf{w}$ by maximizing ", 
      "$p(\\mathbf{w}|D) \\propto p(D|\\mathbf{w})p(\\mathbf{w})$. How does this differ from frequentist modeling?", 
      "The frequentist approach, or *maximum likelihood* approach, ignores the formulation of a *prior*, and goes directly to maximizing the likelihood function ", 
      "to find the model parameters. Thus, the frequentist approach can be described as *maximizing the probability of the data given the parameters*. Under certain", 
      "conditions the results of Bayesian and frequentist modeling will conincide, but this is not true in general. ", 
      "", 
      "**TODO:** Add a simple example illustrating the difference. For now, a good illustration is available <a href=\"http://www.behind-the-enemy-lines.com/2008/01/are-you-bayesian-or-frequentist-or.html\">", 
      "here</a>"
     ]
    }, 
    {
     "cell_type": "code", 
     "collapsed": true, 
     "input": [], 
     "language": "python", 
     "outputs": []
    }
   ]
  }
 ]
}